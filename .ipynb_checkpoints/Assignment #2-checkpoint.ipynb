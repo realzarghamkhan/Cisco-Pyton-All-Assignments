{
 "cells": [
  {
   "cell_type": "code",
   "execution_count": 1,
   "metadata": {},
   "outputs": [
    {
     "name": "stdout",
     "output_type": "stream",
     "text": [
      "Enter C++ Marks: 55\n",
      "Enter Java Marks: 66\n",
      "Enter Python Marks: 77\n",
      "Enter OOP Marks: 88\n",
      "Enter C Language Marks: 99\n",
      "Total obtained marks  385  out of  500\n",
      "your % 77.0\n",
      "Your Grade is 'B'.\n"
     ]
    }
   ],
   "source": [
    "#Assignment 02 #Qno 1\n",
    "    #Marksheet to get Grade:\n",
    "Cplus = int(input(\"Enter C++ Marks: \"))\n",
    "Java = int(input(\"Enter Java Marks: \"))\n",
    "Python = int(input(\"Enter Python Marks: \"))\n",
    "OOP = int(input(\"Enter OOP Marks: \"))\n",
    "C = int(input(\"Enter C Language Marks: \"))\n",
    "TOb = Cplus + Java + Python + OOP+C\n",
    "Total = 500\n",
    "print(\"Total obtained marks \",TOb,\" out of \",Total)\n",
    "per = TOb/Total*100\n",
    "print(\"your %\",per)\n",
    "if per > 100:\n",
    "        print(\"Invalid %\")\n",
    "elif per >= 80 and per <= 100:\n",
    "        print(\"Your Grade is 'A'.\")\n",
    "elif per >= 60 and per <= 79:\n",
    "        print(\"Your Grade is 'B'.\")\n",
    "elif per >= 50 and per <= 59:\n",
    "        print(\"Your Grade is 'C'.\")\n",
    "elif per >= 40 and per <= 49:\n",
    "        print(\"Your Grade is 'D'.\") \n",
    "else:\n",
    "        print(\"You are Fail.\")"
   ]
  },
  {
   "cell_type": "code",
   "execution_count": 2,
   "metadata": {},
   "outputs": [
    {
     "name": "stdout",
     "output_type": "stream",
     "text": [
      "Enter A Number: 3\n",
      "The Number is Odd\n"
     ]
    }
   ],
   "source": [
    "# Qno 2\n",
    "    #Get Even Odd\n",
    "No1 = int(input(\"Enter A Number: \"))\n",
    "if No1%2 ==0:\n",
    "        print(\"The Number is Even\")\n",
    "else:\n",
    "        print(\"The Number is Odd\")"
   ]
  },
  {
   "cell_type": "code",
   "execution_count": 5,
   "metadata": {},
   "outputs": [
    {
     "name": "stdout",
     "output_type": "stream",
     "text": [
      "The Length of Given Array is:  6\n"
     ]
    }
   ],
   "source": [
    "# Qno 3\n",
    "    #Length of  Array\n",
    "Arr = (\"zargham\",\"khan\",12,0.43,'A',False)\n",
    "print(\"The Length of Given Array is: \",len(Arr))"
   ]
  },
  {
   "cell_type": "code",
   "execution_count": 6,
   "metadata": {},
   "outputs": [
    {
     "name": "stdout",
     "output_type": "stream",
     "text": [
      "The Largest value in Given Array is:  12.001\n"
     ]
    }
   ],
   "source": [
    "# Qno 4\n",
    "    #Largest number in Array\n",
    "Arr = (12,0.43,False,12.001,11.99)\n",
    "print(\"The Largest value in Given Array is: \",max(Arr))"
   ]
  },
  {
   "cell_type": "code",
   "execution_count": 7,
   "metadata": {},
   "outputs": [
    {
     "name": "stdout",
     "output_type": "stream",
     "text": [
      "The Sum of all elements in the given list:  176.124\n"
     ]
    }
   ],
   "source": [
    "# Qno 5\n",
    "    #Sum of List\n",
    "Arr = [34,.034,97.09,45]\n",
    "print(\"The Sum of all elements in the given list: \",sum(Arr))"
   ]
  },
  {
   "cell_type": "code",
   "execution_count": 8,
   "metadata": {},
   "outputs": [
    {
     "name": "stdout",
     "output_type": "stream",
     "text": [
      "Elements less than 5 are:  [1, 1, 2, 3, 4]\n"
     ]
    }
   ],
   "source": [
    "# Qno 6\n",
    "    #Less than 5\n",
    "Arr = [1,1,2,3,4,5,6,7,8,0]\n",
    "print(\"Elements less than 5 are: \",Arr[:5])"
   ]
  },
  {
   "cell_type": "code",
   "execution_count": null,
   "metadata": {},
   "outputs": [],
   "source": []
  }
 ],
 "metadata": {
  "kernelspec": {
   "display_name": "Python 3",
   "language": "python",
   "name": "python3"
  },
  "language_info": {
   "codemirror_mode": {
    "name": "ipython",
    "version": 3
   },
   "file_extension": ".py",
   "mimetype": "text/x-python",
   "name": "python",
   "nbconvert_exporter": "python",
   "pygments_lexer": "ipython3",
   "version": "3.6.5"
  }
 },
 "nbformat": 4,
 "nbformat_minor": 2
}
