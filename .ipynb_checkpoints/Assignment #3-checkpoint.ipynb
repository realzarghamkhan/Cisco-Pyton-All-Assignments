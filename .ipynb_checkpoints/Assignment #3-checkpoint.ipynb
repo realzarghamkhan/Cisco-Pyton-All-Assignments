{
 "cells": [
  {
   "cell_type": "code",
   "execution_count": 1,
   "metadata": {},
   "outputs": [
    {
     "name": "stdout",
     "output_type": "stream",
     "text": [
      "Enter a Number : 34\n",
      "Enter  an other Number : 55\n",
      "Enter operation eg (-,+,/,*,**): -\n",
      "Subtraction of  34.0  and  55.0  is  -21.0\n"
     ]
    }
   ],
   "source": [
    "#Assignment:3 Qno#01\n",
    "No1 = float(input('Enter a Number : '))\n",
    "No2 = float(input('Enter  an other Number : '))\n",
    "operator = input('Enter operation eg (-,+,/,*,**): ')\n",
    "\n",
    "if (operator == '-'):\n",
    "    result = No1 - No2\n",
    "    print(\"Subtraction of \",No1,\" and \",No2,\" is \",result)\n",
    "elif(operator == '+'):\n",
    "    result = No1 + No2\n",
    "    print(\"Addition of \",No1,\" and \",No2,\" is \",result)\n",
    "elif(operator == '/'):\n",
    "    result = No1/No2\n",
    "    print(\"Division of \",No1,\" and \",No2,\" is \",result)\n",
    "elif(operator == '*'):\n",
    "    result = No1* No2\n",
    "    print(\"Multiplication of \",No1,\" and \",No2,\" is \",result)\n",
    "elif(operator == '**'):\n",
    "    result = No1 ** No2\n",
    "    print(No1,\" power \",No2,\" is: \",result)\n",
    "else:\n",
    "    print('Enter correct operator')"
   ]
  },
  {
   "cell_type": "code",
   "execution_count": 3,
   "metadata": {},
   "outputs": [
    {
     "name": "stdout",
     "output_type": "stream",
     "text": [
      "Found numeric value:  234\n",
      "Found numeric value:  30\n"
     ]
    }
   ],
   "source": [
    "#Qno#02\n",
    "List  = [\"Hello\", \"World\", 234, \"Python\", \"Programming\",False,30,0.331]\n",
    "\n",
    "for i in List:\n",
    "    if type(i) == int:\n",
    "        print(\"Found numeric value: \",i)"
   ]
  },
  {
   "cell_type": "code",
   "execution_count": 7,
   "metadata": {},
   "outputs": [
    {
     "name": "stdout",
     "output_type": "stream",
     "text": [
      "Before Update\n",
      "Info['Name']:  zargham\n",
      "Info['Age']:  23\n",
      "Info['Department']:  BSCS\n",
      "After Update\n",
      "Info['Name']:  zargham\n",
      "Info['Age']:  22\n",
      "Info['School']:  PU Main Campus\n"
     ]
    }
   ],
   "source": [
    "#Qno#03 part A\n",
    "Info = {'Name': 'zargham', 'Age': 23, 'Department': 'BSCS'}\n",
    "\n",
    "print('''Before Update''')\n",
    "print (\"Info['Name']: \", Info['Name'])\n",
    "print (\"Info['Age']: \", Info['Age'])\n",
    "print (\"Info['Department']: \", Info['Department'])\n",
    "\n",
    "print('''After Update''')\n",
    "\n",
    "Info= {'Name': 'zargham', 'Age': 23, 'Department': 'BSCS'}\n",
    "Info['Age'] = 22; # update existing entry\n",
    "Info['School'] = \"PU Main Campus\" # Add new entry\n",
    "\n",
    "print (\"Info['Name']: \", Info['Name'])\n",
    "print (\"Info['Age']: \", Info['Age'])\n",
    "print (\"Info['School']: \", Info['School'])"
   ]
  },
  {
   "cell_type": "code",
   "execution_count": 8,
   "metadata": {},
   "outputs": [
    {
     "name": "stdout",
     "output_type": "stream",
     "text": [
      "Before Update.\n",
      "{'Price1': 291, 'Price2': 485, 'Price3': 645}\n",
      "After Updating of Keys.\n",
      "{'Price1': 291, 'Price2': 485, 'Price3': 645, 'Price4': 258, 'Price5': 786}\n"
     ]
    }
   ],
   "source": [
    "#Qno#03 part B\n",
    "print('Before Update.')\n",
    "data = {\"Price1\":291, \"Price2\":485,\"Price3\":645}  \n",
    "print(data)\n",
    "\n",
    "print(\"After Updating of Keys.\")\n",
    "\n",
    "data.update({\"Price4\":258}) #1st Method\n",
    "data['Price5'] = 786  #2nd Method\n",
    "print(data)"
   ]
  },
  {
   "cell_type": "code",
   "execution_count": 10,
   "metadata": {},
   "outputs": [
    {
     "name": "stdout",
     "output_type": "stream",
     "text": [
      "Sum : 600\n"
     ]
    }
   ],
   "source": [
    "#Qno#04\n",
    "def returnSum(myDict): \n",
    "      \n",
    "    sum = 0\n",
    "    for i in myDict: \n",
    "        sum = sum + myDict[i] \n",
    "      \n",
    "    return sum\n",
    "  \n",
    "# Driver Function \n",
    "dict = {'a': 100, 'b':200, 'c':300} \n",
    "print(\"Sum :\", returnSum(dict)) "
   ]
  },
  {
   "cell_type": "code",
   "execution_count": 12,
   "metadata": {},
   "outputs": [
    {
     "name": "stdout",
     "output_type": "stream",
     "text": [
      "[20, 30, -20, 60]\n"
     ]
    }
   ],
   "source": [
    "#Qno#05\n",
    "\n",
    "def Repeat(x): \n",
    "    _size = len(x) \n",
    "    repeated = [] \n",
    "    for i in range(_size): \n",
    "        k = i + 1\n",
    "        for j in range(k, _size): \n",
    "            if x[i] == x[j] and x[i] not in repeated: \n",
    "                repeated.append(x[i]) \n",
    "    return repeated \n",
    "  \n",
    "# Driver Code \n",
    "list1 = [10, 20, 30, 20, 20, 30, 40,  \n",
    "         50, -20, 60, 60, -20, -20] \n",
    "print (Repeat(list1))"
   ]
  },
  {
   "cell_type": "code",
   "execution_count": 14,
   "metadata": {},
   "outputs": [
    {
     "name": "stdout",
     "output_type": "stream",
     "text": [
      "Present,  value = 200\n",
      "Not present\n"
     ]
    }
   ],
   "source": [
    "#Qno#05\n",
    "\n",
    "def checkKey(dict, key): \n",
    "      \n",
    "    if key in dict.keys(): \n",
    "        print(\"Present, \", end =\" \") \n",
    "        print(\"value =\", dict[key]) \n",
    "    else: \n",
    "        print(\"Not present\") \n",
    "  \n",
    "# Driver Code \n",
    "dict = {'a': 100, 'b':200, 'c':300} \n",
    "  \n",
    "key = 'b'\n",
    "checkKey(dict, key) \n",
    "  \n",
    "key = 'w'\n",
    "checkKey(dict, key) "
   ]
  },
  {
   "cell_type": "code",
   "execution_count": null,
   "metadata": {},
   "outputs": [],
   "source": []
  }
 ],
 "metadata": {
  "kernelspec": {
   "display_name": "Python 3",
   "language": "python",
   "name": "python3"
  },
  "language_info": {
   "codemirror_mode": {
    "name": "ipython",
    "version": 3
   },
   "file_extension": ".py",
   "mimetype": "text/x-python",
   "name": "python",
   "nbconvert_exporter": "python",
   "pygments_lexer": "ipython3",
   "version": "3.6.5"
  }
 },
 "nbformat": 4,
 "nbformat_minor": 2
}
