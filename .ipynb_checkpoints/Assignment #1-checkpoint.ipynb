{
 "cells": [
  {
   "cell_type": "code",
   "execution_count": 1,
   "metadata": {},
   "outputs": [
    {
     "name": "stdout",
     "output_type": "stream",
     "text": [
      "Twinkle, twinkle, little star,\n",
      "\tHow I wonder what you are!\n",
      "\t\tUp above the world so high,\n",
      "\t\tLike a diamond in the sky.\n",
      "Twinkle, twinkle, little star,\n",
      "\tHow I wonder what you are!\n",
      "\n"
     ]
    }
   ],
   "source": [
    "#Assignment Qno#1\n",
    "a =\"Twinkle, twinkle, little star,\\n\"\n",
    "b =\"\\tHow I wonder what you are!\\n\"\n",
    "c = \"\\t\\tUp above the world so high,\\n\"\n",
    "d =\"\\t\\tLike a diamond in the sky.\\n\"\n",
    "\n",
    "print(a+b+c+d+a+b);"
   ]
  },
  {
   "cell_type": "code",
   "execution_count": 11,
   "metadata": {},
   "outputs": [
    {
     "name": "stdout",
     "output_type": "stream",
     "text": [
      "Python version\n",
      "3.6.5 |Anaconda, Inc.| (default, Mar 29 2018, 13:32:41) [MSC v.1900 64 bit (AMD64)]\n",
      "Version info.\n",
      "sys.version_info(major=3, minor=6, micro=5, releaselevel='final', serial=0)\n"
     ]
    }
   ],
   "source": [
    "#Assignment Qno#2 Write a Python program to get the Python version you are using??\n",
    "import sys\n",
    "print(\"Python version\")\n",
    "print (sys.version)\n",
    "print(\"Version info.\")\n",
    "print (sys.version_info)"
   ]
  },
  {
   "cell_type": "code",
   "execution_count": 2,
   "metadata": {},
   "outputs": [
    {
     "name": "stdout",
     "output_type": "stream",
     "text": [
      "The Current Time Is: 13:31:35\n",
      "The Current Day Is: 28/11/2019\n"
     ]
    }
   ],
   "source": [
    "import datetime    # this is a packege which helps you run/ show the recent Date and Time.\n",
    "show = datetime.datetime.now()\n",
    "print(\"The Current Time Is: %s:%s:%s\" %(show.hour, show.minute,show.second))\n",
    "print(\"The Current Day Is: %s/%s/%s\" %(show.day, show.month,show.year))"
   ]
  },
  {
   "cell_type": "code",
   "execution_count": 3,
   "metadata": {},
   "outputs": [
    {
     "name": "stdout",
     "output_type": "stream",
     "text": [
      "Please Enter the value of Radius to get the Area: 77\n",
      "The Area of cirlce in meters is:  18617.06\n"
     ]
    }
   ],
   "source": [
    "#Assignment Qno#4\n",
    "R = int(input(\"Please Enter the value of Radius to get the Area: \"))\n",
    "Area = 3.14*(R**2)\n",
    "print(\"The Area of cirlce in meters is: \",Area)"
   ]
  },
  {
   "cell_type": "code",
   "execution_count": 10,
   "metadata": {},
   "outputs": [
    {
     "name": "stdout",
     "output_type": "stream",
     "text": [
      "Input your First Name : zargham\n",
      "Input your Last Name : khan\n",
      "Hello  zargham khan\n"
     ]
    }
   ],
   "source": [
    "#Assignment Qno#5\n",
    "fname = input(\"Input your First Name : \")\n",
    "lname = input(\"Input your Last Name : \")\n",
    "print (\"Hello  \" + fname + \" \" + lname)"
   ]
  },
  {
   "cell_type": "code",
   "execution_count": 12,
   "metadata": {},
   "outputs": [
    {
     "name": "stdout",
     "output_type": "stream",
     "text": [
      "Please Enter a Number: 3\n",
      "Now Enter another number: 4\n",
      "The Addition of  3  and  4 is:  7\n"
     ]
    }
   ],
   "source": [
    "# Assignment Qno#6 \n",
    "x = int(input(\"Please Enter a Number: \"))\n",
    "y = int(input(\"Now Enter another number: \"))\n",
    "z = int(x+y) #Addition\n",
    "print(\"The Addition of \",x,\" and \",y, \"is: \",z)"
   ]
  },
  {
   "cell_type": "code",
   "execution_count": null,
   "metadata": {},
   "outputs": [],
   "source": []
  }
 ],
 "metadata": {
  "kernelspec": {
   "display_name": "Python 3",
   "language": "python",
   "name": "python3"
  },
  "language_info": {
   "codemirror_mode": {
    "name": "ipython",
    "version": 3
   },
   "file_extension": ".py",
   "mimetype": "text/x-python",
   "name": "python",
   "nbconvert_exporter": "python",
   "pygments_lexer": "ipython3",
   "version": "3.6.5"
  }
 },
 "nbformat": 4,
 "nbformat_minor": 2
}
